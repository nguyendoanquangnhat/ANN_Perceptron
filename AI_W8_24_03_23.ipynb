{
  "nbformat": 4,
  "nbformat_minor": 0,
  "metadata": {
    "colab": {
      "provenance": [],
      "authorship_tag": "ABX9TyMF2zh4UbvHrHSLQYc7dqAs",
      "include_colab_link": true
    },
    "kernelspec": {
      "name": "python3",
      "display_name": "Python 3"
    },
    "language_info": {
      "name": "python"
    }
  },
  "cells": [
    {
      "cell_type": "markdown",
      "metadata": {
        "id": "view-in-github",
        "colab_type": "text"
      },
      "source": [
        "<a href=\"https://colab.research.google.com/github/nguyendoanquangnhat/NEURAL-NETWORKS/blob/main/AI_W8_24_03_23.ipynb\" target=\"_parent\"><img src=\"https://colab.research.google.com/assets/colab-badge.svg\" alt=\"Open In Colab\"/></a>"
      ]
    },
    {
      "cell_type": "code",
      "execution_count": null,
      "metadata": {
        "id": "HcIfTCS6XVDr"
      },
      "outputs": [],
      "source": [
        "#ARTIFICIAL NEURAL NETWORKS"
      ]
    },
    {
      "cell_type": "code",
      "source": [
        "from sklearn.linear_model import Perceptron\n",
        "x=[[0,0],[1,0],[0,1],[1,1]]\n",
        "y=[0,1,1,1]\n",
        "model=Perceptron()\n",
        "model.fit(x,y)\n",
        "model.score(x,y)"
      ],
      "metadata": {
        "colab": {
          "base_uri": "https://localhost:8080/"
        },
        "id": "v78dCv8TXnzb",
        "outputId": "810e04ac-0af2-4b73-c0f7-452f06a35100"
      },
      "execution_count": null,
      "outputs": [
        {
          "output_type": "execute_result",
          "data": {
            "text/plain": [
              "1.0"
            ]
          },
          "metadata": {},
          "execution_count": 3
        }
      ]
    },
    {
      "cell_type": "code",
      "source": [
        "x1=[[-0.5,-0.5],[10,-2],[-1,0.8],[3,5],[1,0.2],[-0.1,0.5]]\n",
        "y1=model.predict(x1)\n",
        "print(y1)\n",
        "model.score(x1,y1)"
      ],
      "metadata": {
        "colab": {
          "base_uri": "https://localhost:8080/"
        },
        "id": "HOgv3y50XxfF",
        "outputId": "367a979f-c492-46b0-dbf0-c1241cb2a354"
      },
      "execution_count": null,
      "outputs": [
        {
          "output_type": "stream",
          "name": "stdout",
          "text": [
            "[0 1 0 1 1 0]\n"
          ]
        },
        {
          "output_type": "execute_result",
          "data": {
            "text/plain": [
              "1.0"
            ]
          },
          "metadata": {},
          "execution_count": 16
        }
      ]
    },
    {
      "cell_type": "code",
      "source": [
        "from sklearn import datasets\n",
        "from sklearn.model_selection import train_test_split\n",
        "from sklearn.metrics import accuracy_score\n",
        "from sklearn.preprocessing import StandardScaler\n",
        "\n",
        "iris = datasets.load_iris()\n",
        "X = iris.data\n",
        "y = iris.target\n",
        "print(X[:50])\n",
        "print(y[:50])\n",
        "X_train, X_test, y_train, y_test = train_test_split(X,y,test_size=0.3)\n",
        "SC = StandardScaler()\n",
        "SC.fit(X_train)\n",
        "X_train_std = SC.transform(X_train)\n",
        "X_test_std = SC.transform(X_test)"
      ],
      "metadata": {
        "colab": {
          "base_uri": "https://localhost:8080/"
        },
        "id": "ujLHbCOfboRR",
        "outputId": "6f3e3126-aa40-4da5-f3f6-8101ce724425"
      },
      "execution_count": null,
      "outputs": [
        {
          "output_type": "stream",
          "name": "stdout",
          "text": [
            "[[5.1 3.5 1.4 0.2]\n",
            " [4.9 3.  1.4 0.2]\n",
            " [4.7 3.2 1.3 0.2]\n",
            " [4.6 3.1 1.5 0.2]\n",
            " [5.  3.6 1.4 0.2]\n",
            " [5.4 3.9 1.7 0.4]\n",
            " [4.6 3.4 1.4 0.3]\n",
            " [5.  3.4 1.5 0.2]\n",
            " [4.4 2.9 1.4 0.2]\n",
            " [4.9 3.1 1.5 0.1]\n",
            " [5.4 3.7 1.5 0.2]\n",
            " [4.8 3.4 1.6 0.2]\n",
            " [4.8 3.  1.4 0.1]\n",
            " [4.3 3.  1.1 0.1]\n",
            " [5.8 4.  1.2 0.2]\n",
            " [5.7 4.4 1.5 0.4]\n",
            " [5.4 3.9 1.3 0.4]\n",
            " [5.1 3.5 1.4 0.3]\n",
            " [5.7 3.8 1.7 0.3]\n",
            " [5.1 3.8 1.5 0.3]\n",
            " [5.4 3.4 1.7 0.2]\n",
            " [5.1 3.7 1.5 0.4]\n",
            " [4.6 3.6 1.  0.2]\n",
            " [5.1 3.3 1.7 0.5]\n",
            " [4.8 3.4 1.9 0.2]\n",
            " [5.  3.  1.6 0.2]\n",
            " [5.  3.4 1.6 0.4]\n",
            " [5.2 3.5 1.5 0.2]\n",
            " [5.2 3.4 1.4 0.2]\n",
            " [4.7 3.2 1.6 0.2]\n",
            " [4.8 3.1 1.6 0.2]\n",
            " [5.4 3.4 1.5 0.4]\n",
            " [5.2 4.1 1.5 0.1]\n",
            " [5.5 4.2 1.4 0.2]\n",
            " [4.9 3.1 1.5 0.2]\n",
            " [5.  3.2 1.2 0.2]\n",
            " [5.5 3.5 1.3 0.2]\n",
            " [4.9 3.6 1.4 0.1]\n",
            " [4.4 3.  1.3 0.2]\n",
            " [5.1 3.4 1.5 0.2]\n",
            " [5.  3.5 1.3 0.3]\n",
            " [4.5 2.3 1.3 0.3]\n",
            " [4.4 3.2 1.3 0.2]\n",
            " [5.  3.5 1.6 0.6]\n",
            " [5.1 3.8 1.9 0.4]\n",
            " [4.8 3.  1.4 0.3]\n",
            " [5.1 3.8 1.6 0.2]\n",
            " [4.6 3.2 1.4 0.2]\n",
            " [5.3 3.7 1.5 0.2]\n",
            " [5.  3.3 1.4 0.2]]\n",
            "[0 0 0 0 0 0 0 0 0 0 0 0 0 0 0 0 0 0 0 0 0 0 0 0 0 0 0 0 0 0 0 0 0 0 0 0 0\n",
            " 0 0 0 0 0 0 0 0 0 0 0 0 0]\n"
          ]
        }
      ]
    },
    {
      "cell_type": "code",
      "source": [
        "model = Perceptron(max_iter=10000, eta0=0.1, random_state=0)\n",
        "model.fit(X_train_std, y_train)\n",
        "y_pred = model.predict(X_test_std)\n",
        "print(y_pred)\n",
        "print(y_test)\n",
        "print(accuracy_score(y_test,y_pred))"
      ],
      "metadata": {
        "colab": {
          "base_uri": "https://localhost:8080/"
        },
        "id": "qWqWpsVjfDJl",
        "outputId": "6e55aab9-758d-4001-e4c6-0f66ada1eafc"
      },
      "execution_count": null,
      "outputs": [
        {
          "output_type": "stream",
          "name": "stdout",
          "text": [
            "[2 0 1 1 1 2 2 2 0 1 1 1 1 0 0 1 2 2 1 2 1 0 1 2 1 1 0 1 2 1 0 1 2 0 2 0 0\n",
            " 2 2 0 1 0 1 2 2]\n",
            "[2 0 2 1 1 2 2 2 0 2 1 1 1 0 0 2 2 2 1 2 2 0 2 1 1 2 0 1 2 1 0 2 2 0 2 0 0\n",
            " 1 2 0 2 0 1 2 2]\n",
            "0.7777777777777778\n"
          ]
        }
      ]
    },
    {
      "cell_type": "code",
      "source": [
        "import pandas as pd\n",
        "url = '/crabs.csv'\n",
        "data = pd.read_csv(url)\n",
        "data.sex = data.sex.apply(lambda x: x.replace(\"M\",\"1\"))\n",
        "data.sex = data.sex.apply(lambda x: x.replace(\"F\",\"0\"))\n",
        "print(data)"
      ],
      "metadata": {
        "colab": {
          "base_uri": "https://localhost:8080/"
        },
        "id": "bF-ErQVLkZbZ",
        "outputId": "9c04c27c-3e08-436e-e213-764aa7cac6d8"
      },
      "execution_count": null,
      "outputs": [
        {
          "output_type": "stream",
          "name": "stdout",
          "text": [
            "    speies sex  index  fontallip  rearwidth  length  width  depth\n",
            "0        B   1      1        8.1        6.7    16.1   19.0    7.0\n",
            "1        B   1      2        8.8        7.7    18.1   20.8    7.4\n",
            "2        B   1      3        9.2        7.8    19.0   22.4    7.7\n",
            "3        B   1      4        9.6        7.9    20.1   23.1    8.2\n",
            "4        B   1      5        9.8        8.0    20.3   23.0    8.2\n",
            "..     ...  ..    ...        ...        ...     ...    ...    ...\n",
            "195      O   0     46       21.4       18.0    41.2   46.2   18.7\n",
            "196      O   0     47       21.7       17.1    41.7   47.2   19.6\n",
            "197      O   0     48       21.9       17.2    42.6   47.4   19.5\n",
            "198      O   0     49       22.5       17.2    43.0   48.7   19.8\n",
            "199      O   0     50       23.1       20.2    46.2   52.5   21.1\n",
            "\n",
            "[200 rows x 8 columns]\n"
          ]
        }
      ]
    },
    {
      "cell_type": "code",
      "source": [
        "a = data.drop(['speies','sex','index'],axis = 1)\n",
        "print(a)\n",
        "b = data.sex\n",
        "print(b)"
      ],
      "metadata": {
        "colab": {
          "base_uri": "https://localhost:8080/"
        },
        "id": "Lj2oRx4emFcO",
        "outputId": "b173ae09-ee87-49e6-9c6f-94559398f764"
      },
      "execution_count": null,
      "outputs": [
        {
          "output_type": "stream",
          "name": "stdout",
          "text": [
            "     fontallip  rearwidth  length  width  depth\n",
            "0          8.1        6.7    16.1   19.0    7.0\n",
            "1          8.8        7.7    18.1   20.8    7.4\n",
            "2          9.2        7.8    19.0   22.4    7.7\n",
            "3          9.6        7.9    20.1   23.1    8.2\n",
            "4          9.8        8.0    20.3   23.0    8.2\n",
            "..         ...        ...     ...    ...    ...\n",
            "195       21.4       18.0    41.2   46.2   18.7\n",
            "196       21.7       17.1    41.7   47.2   19.6\n",
            "197       21.9       17.2    42.6   47.4   19.5\n",
            "198       22.5       17.2    43.0   48.7   19.8\n",
            "199       23.1       20.2    46.2   52.5   21.1\n",
            "\n",
            "[200 rows x 5 columns]\n",
            "0      1\n",
            "1      1\n",
            "2      1\n",
            "3      1\n",
            "4      1\n",
            "      ..\n",
            "195    0\n",
            "196    0\n",
            "197    0\n",
            "198    0\n",
            "199    0\n",
            "Name: sex, Length: 200, dtype: object\n"
          ]
        }
      ]
    },
    {
      "cell_type": "code",
      "source": [
        "x_train1, x_test1, y_train1, y_test1 = train_test_split(a,b,test_size=0.3)\n",
        "SC1 = StandardScaler()\n",
        "SC1.fit(x_train1)\n",
        "x_train_std1 = SC1.transform(x_train1)\n",
        "x_test_std1 = SC1.transform(x_test1)\n",
        "model1 = Perceptron(max_iter = 1000000, eta0 = 0.001, random_state = 0)\n",
        "model1.fit(x_train_std1, y_train1)\n",
        "y_pred1 = model1.predict(x_test_std1)\n",
        "print(\"Score:\", accuracy_score(y_test1, y_pred1))"
      ],
      "metadata": {
        "colab": {
          "base_uri": "https://localhost:8080/"
        },
        "id": "D_TeJ-Gmr9bb",
        "outputId": "cfb5fbef-805a-4e74-a8d0-410359366d4d"
      },
      "execution_count": null,
      "outputs": [
        {
          "output_type": "stream",
          "name": "stdout",
          "text": [
            "Score: 0.95\n"
          ]
        }
      ]
    }
  ]
}